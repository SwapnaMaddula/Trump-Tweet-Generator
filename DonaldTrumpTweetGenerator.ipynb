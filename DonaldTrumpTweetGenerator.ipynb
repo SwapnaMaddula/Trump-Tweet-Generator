{
 "cells": [
  {
   "cell_type": "markdown",
   "metadata": {},
   "source": [
    "# Donald Trump Tweets Generator"
   ]
  },
  {
   "cell_type": "code",
   "execution_count": 1,
   "metadata": {},
   "outputs": [],
   "source": [
    "%matplotlib inline\n",
    "\n",
    "import pandas as pd\n",
    "import numpy as np\n",
    "import tensorflow as tf\n",
    "import time\n",
    "import re\n",
    "import operator\n",
    "import matplotlib.pyplot as plt \n",
    "from sklearn.decomposition import PCA\n",
    "from sklearn.cluster import KMeans\n",
    "from sklearn.manifold import TSNE\n",
    "from operator import itemgetter\n",
    "import warnings\n",
    "warnings.filterwarnings('ignore')"
   ]
  },
  {
   "cell_type": "markdown",
   "metadata": {},
   "source": [
    "### 1. Data Collection"
   ]
  },
  {
   "cell_type": "code",
   "execution_count": 2,
   "metadata": {},
   "outputs": [],
   "source": [
    "# Import the tweets dataset downloaded from kaggle\n",
    "data = pd.read_csv(\"Donald-Tweets!.csv\")"
   ]
  },
  {
   "cell_type": "markdown",
   "metadata": {},
   "source": [
    "### 2. Tweets Inspection"
   ]
  },
  {
   "cell_type": "code",
   "execution_count": 3,
   "metadata": {},
   "outputs": [
    {
     "data": {
      "text/html": [
       "<div>\n",
       "<style scoped>\n",
       "    .dataframe tbody tr th:only-of-type {\n",
       "        vertical-align: middle;\n",
       "    }\n",
       "\n",
       "    .dataframe tbody tr th {\n",
       "        vertical-align: top;\n",
       "    }\n",
       "\n",
       "    .dataframe thead th {\n",
       "        text-align: right;\n",
       "    }\n",
       "</style>\n",
       "<table border=\"1\" class=\"dataframe\">\n",
       "  <thead>\n",
       "    <tr style=\"text-align: right;\">\n",
       "      <th></th>\n",
       "      <th>Date</th>\n",
       "      <th>Time</th>\n",
       "      <th>Tweet_Text</th>\n",
       "      <th>Type</th>\n",
       "      <th>Media_Type</th>\n",
       "      <th>Hashtags</th>\n",
       "      <th>Tweet_Id</th>\n",
       "      <th>Tweet_Url</th>\n",
       "      <th>twt_favourites_IS_THIS_LIKE_QUESTION_MARK</th>\n",
       "      <th>Retweets</th>\n",
       "      <th>Unnamed: 10</th>\n",
       "      <th>Unnamed: 11</th>\n",
       "    </tr>\n",
       "  </thead>\n",
       "  <tbody>\n",
       "    <tr>\n",
       "      <th>0</th>\n",
       "      <td>16-11-11</td>\n",
       "      <td>15:26:37</td>\n",
       "      <td>Today we express our deepest gratitude to all ...</td>\n",
       "      <td>text</td>\n",
       "      <td>photo</td>\n",
       "      <td>ThankAVet</td>\n",
       "      <td>7.970000e+17</td>\n",
       "      <td>https://twitter.com/realDonaldTrump/status/797...</td>\n",
       "      <td>127213</td>\n",
       "      <td>41112</td>\n",
       "      <td>NaN</td>\n",
       "      <td>NaN</td>\n",
       "    </tr>\n",
       "    <tr>\n",
       "      <th>1</th>\n",
       "      <td>16-11-11</td>\n",
       "      <td>13:33:35</td>\n",
       "      <td>Busy day planned in New York. Will soon be mak...</td>\n",
       "      <td>text</td>\n",
       "      <td>NaN</td>\n",
       "      <td>NaN</td>\n",
       "      <td>7.970000e+17</td>\n",
       "      <td>https://twitter.com/realDonaldTrump/status/797...</td>\n",
       "      <td>141527</td>\n",
       "      <td>28654</td>\n",
       "      <td>NaN</td>\n",
       "      <td>NaN</td>\n",
       "    </tr>\n",
       "    <tr>\n",
       "      <th>2</th>\n",
       "      <td>16-11-11</td>\n",
       "      <td>11:14:20</td>\n",
       "      <td>Love the fact that the small groups of protest...</td>\n",
       "      <td>text</td>\n",
       "      <td>NaN</td>\n",
       "      <td>NaN</td>\n",
       "      <td>7.970000e+17</td>\n",
       "      <td>https://twitter.com/realDonaldTrump/status/797...</td>\n",
       "      <td>183729</td>\n",
       "      <td>50039</td>\n",
       "      <td>NaN</td>\n",
       "      <td>NaN</td>\n",
       "    </tr>\n",
       "    <tr>\n",
       "      <th>3</th>\n",
       "      <td>16-11-11</td>\n",
       "      <td>2:19:44</td>\n",
       "      <td>Just had a very open and successful presidenti...</td>\n",
       "      <td>text</td>\n",
       "      <td>NaN</td>\n",
       "      <td>NaN</td>\n",
       "      <td>7.970000e+17</td>\n",
       "      <td>https://twitter.com/realDonaldTrump/status/796...</td>\n",
       "      <td>214001</td>\n",
       "      <td>67010</td>\n",
       "      <td>NaN</td>\n",
       "      <td>NaN</td>\n",
       "    </tr>\n",
       "    <tr>\n",
       "      <th>4</th>\n",
       "      <td>16-11-11</td>\n",
       "      <td>2:10:46</td>\n",
       "      <td>A fantastic day in D.C. Met with President Oba...</td>\n",
       "      <td>text</td>\n",
       "      <td>NaN</td>\n",
       "      <td>NaN</td>\n",
       "      <td>7.970000e+17</td>\n",
       "      <td>https://twitter.com/realDonaldTrump/status/796...</td>\n",
       "      <td>178499</td>\n",
       "      <td>36688</td>\n",
       "      <td>NaN</td>\n",
       "      <td>NaN</td>\n",
       "    </tr>\n",
       "  </tbody>\n",
       "</table>\n",
       "</div>"
      ],
      "text/plain": [
       "       Date      Time                                         Tweet_Text  \\\n",
       "0  16-11-11  15:26:37  Today we express our deepest gratitude to all ...   \n",
       "1  16-11-11  13:33:35  Busy day planned in New York. Will soon be mak...   \n",
       "2  16-11-11  11:14:20  Love the fact that the small groups of protest...   \n",
       "3  16-11-11   2:19:44  Just had a very open and successful presidenti...   \n",
       "4  16-11-11   2:10:46  A fantastic day in D.C. Met with President Oba...   \n",
       "\n",
       "   Type Media_Type   Hashtags      Tweet_Id  \\\n",
       "0  text      photo  ThankAVet  7.970000e+17   \n",
       "1  text        NaN        NaN  7.970000e+17   \n",
       "2  text        NaN        NaN  7.970000e+17   \n",
       "3  text        NaN        NaN  7.970000e+17   \n",
       "4  text        NaN        NaN  7.970000e+17   \n",
       "\n",
       "                                           Tweet_Url  \\\n",
       "0  https://twitter.com/realDonaldTrump/status/797...   \n",
       "1  https://twitter.com/realDonaldTrump/status/797...   \n",
       "2  https://twitter.com/realDonaldTrump/status/797...   \n",
       "3  https://twitter.com/realDonaldTrump/status/796...   \n",
       "4  https://twitter.com/realDonaldTrump/status/796...   \n",
       "\n",
       "   twt_favourites_IS_THIS_LIKE_QUESTION_MARK  Retweets  Unnamed: 10  \\\n",
       "0                                     127213     41112          NaN   \n",
       "1                                     141527     28654          NaN   \n",
       "2                                     183729     50039          NaN   \n",
       "3                                     214001     67010          NaN   \n",
       "4                                     178499     36688          NaN   \n",
       "\n",
       "   Unnamed: 11  \n",
       "0          NaN  \n",
       "1          NaN  \n",
       "2          NaN  \n",
       "3          NaN  \n",
       "4          NaN  "
      ]
     },
     "execution_count": 3,
     "metadata": {},
     "output_type": "execute_result"
    }
   ],
   "source": [
    "#check the dataset by inspecting the first 5 entries\n",
    "data.head()"
   ]
  },
  {
   "cell_type": "code",
   "execution_count": 5,
   "metadata": {},
   "outputs": [
    {
     "data": {
      "text/plain": [
       "(7375, 12)"
      ]
     },
     "execution_count": 5,
     "metadata": {},
     "output_type": "execute_result"
    }
   ],
   "source": [
    "#check the rows and columns of data\n",
    "data.shape"
   ]
  },
  {
   "cell_type": "code",
   "execution_count": 6,
   "metadata": {
    "collapsed": true
   },
   "outputs": [],
   "source": [
    "#Collect tweets from the data\n",
    "tweets = data.Tweet_Text"
   ]
  },
  {
   "cell_type": "code",
   "execution_count": 7,
   "metadata": {},
   "outputs": [
    {
     "name": "stdout",
     "output_type": "stream",
     "text": [
      "RT @DonaldJTrumpJr: FINAL PUSH! Eric and I doing dozens of radio interviews. We can win this thing! GET OUT AND VOTE! #MAGA #ElectionDay ht_\n",
      "\n",
      "Still time to #VoteTrump!\n",
      "#iVoted #ElectionNight https://t.co/UZtYAY1Ba6\n",
      "\n",
      "Dont let up, keep getting out to vote - this election is FAR FROM OVER! We are doing well but there is much time left. GO FLORIDA!\n",
      "\n",
      "Just out according to @CNN: \"Utah officials report voting machine problems across entire country\"\n",
      "\n",
      "I will be watching the election results from Trump Tower in Manhattan with my family and friends. Very exciting!\n",
      "\n",
      "#ElectionDay https://t.co/MXrAxYnTjY https://t.co/FZhOncih21\n",
      "\n",
      "We need your vote. Go to the POLLS! Lets continue this MOVEMENT! Find your poll location: https://t.co/VMUdvi1tx1_ https://t.co/zGOx74Ebhw\n",
      "\n",
      "VOTE TODAY! Go to https://t.co/MXrAxYnTjY to find your polling location. We are going to Make America Great Again!_ https://t.co/KPQ5EY9VwQ\n",
      "\n",
      "TODAY WE MAKE AMERICA GREAT AGAIN!\n",
      "\n",
      "Today we are going to win the great state of MICHIGAN and we are going to WIN back the White House! Thank you MI!_ https://t.co/onRpEvzHrW\n",
      "\n"
     ]
    }
   ],
   "source": [
    "# Check the tweets by inspecting some of the tweets\n",
    "for i in range(10,20):\n",
    "    print(tweets[i]+\"\\n\")"
   ]
  },
  {
   "cell_type": "markdown",
   "metadata": {},
   "source": [
    "### 3. Data Curation"
   ]
  },
  {
   "cell_type": "code",
   "execution_count": 8,
   "metadata": {
    "collapsed": true
   },
   "outputs": [],
   "source": [
    "#Clean tweets method to make all characters lowercase and remove all the unwanted characters from each tweet\n",
    "def tweet_preprocessing(tweet):\n",
    "    tweet = tweet.lower()\n",
    "    tweet = re.sub(r'https?:\\/\\/.*[\\r\\n]*', '', tweet, flags=re.MULTILINE)\n",
    "    tweet = re.sub(r'[_\"\\-;%()|.,+&=*%]', '', tweet)\n",
    "    tweet = re.sub(r'\\.', ' . ', tweet)\n",
    "    tweet = re.sub(r'\\!', ' !', tweet)\n",
    "    tweet = re.sub(r'\\?', ' ?', tweet)\n",
    "    tweet = re.sub(r'\\,', ' ,', tweet)\n",
    "    tweet = re.sub(r':', ' : ', tweet)\n",
    "    tweet = re.sub(r'#', ' # ', tweet)\n",
    "    tweet = re.sub(r'@', ' @ ', tweet)\n",
    "    tweet = re.sub(r'd .c .', 'd.c.', tweet)\n",
    "    tweet = re.sub(r'u .s .', 'd.c.', tweet)\n",
    "    tweet = re.sub(r' amp ', ' and ', tweet)\n",
    "    tweet = re.sub(r'pm', ' pm ', tweet)\n",
    "    tweet = re.sub(r'news', ' news ', tweet)\n",
    "    tweet = re.sub(r' . . . ', ' ', tweet)\n",
    "    tweet = re.sub(r' .  .  . ', ' ', tweet)\n",
    "    tweet = re.sub(r' ! ! ', ' ! ', tweet)\n",
    "    tweet = re.sub(r'&amp', 'and', tweet)\n",
    "    return tweet"
   ]
  },
  {
   "cell_type": "code",
   "execution_count": 9,
   "metadata": {},
   "outputs": [],
   "source": [
    "# Call clean tweets function with the tweets dataset from above and prepare list of cleaned tweets\n",
    "cleaned_tweets = []\n",
    "for tweet in tweets:\n",
    "    tweet = tweet_preprocessing(tweet)\n",
    "    if len(tweet) > 0:\n",
    "        cleaned_tweets.append(tweet)\n"
   ]
  },
  {
   "cell_type": "code",
   "execution_count": 10,
   "metadata": {},
   "outputs": [
    {
     "name": "stdout",
     "output_type": "stream",
     "text": [
      "rt  @ erictrump :  sean hannity :  if hillary wins you own it \n",
      "\n",
      "rt  @ donaldjtrumpjr :  thanks new hampshire ! !\n",
      " # nh  # newhampshire  # maga \n",
      "\n",
      "rt  @ detroit news  ivankatrump in michigan :  this is your movement۪ \n",
      "\n",
      "unbelievable evening in new hampshire  thank you ! flying to grand rapids michigan now\n",
      "watch nh rally here :  \n",
      "\n",
      "big  news  to share in new hampshire tonight ! polls looking great ! see you soon\n",
      "\n",
      "today in florida i pledged to stand with the people of cuba and venezuela in their fight against oppression cont :  \n",
      "\n",
      "thank you pennsylvania ! going to new hampshire now and on to michigan watch pa rally here :  \n",
      "\n",
      "live on  # periscope :  join me for a few minutes in pennsylvania get out and vote tomorrow lets  # maga ! \n",
      "\n",
      "hey missouri lets defeat crooked hillary and  @ koster4missouri ! koster supports obamacare and amnesty ! vote outsider navy seal  @ ericgreitens !\n",
      "\n",
      "america must decide between failed policies or fresh perspective a corrupt system or an outsider\n",
      "\n",
      "\n"
     ]
    }
   ],
   "source": [
    "# Check to ensure the tweets have been clean properly\n",
    "for i in range(20,30):\n",
    "    print(cleaned_tweets[i]+\"\\n\")  "
   ]
  },
  {
   "cell_type": "markdown",
   "metadata": {},
   "source": [
    "### 4. Word-Vector Generation:"
   ]
  },
  {
   "cell_type": "code",
   "execution_count": 11,
   "metadata": {},
   "outputs": [
    {
     "name": "stdout",
     "output_type": "stream",
     "text": [
      "Number of different words used : 11612\n"
     ]
    }
   ],
   "source": [
    "# Count the occurences of each word, and create a map word_counts\n",
    "word_map = {}\n",
    "for tweet in cleaned_tweets:\n",
    "    for word in tweet.split():\n",
    "        if word not in word_map:\n",
    "            word_map[word] = 1\n",
    "        else:\n",
    "            word_map[word] += 1\n",
    "print(\"Number of different words used :\", len(word_map.keys()))"
   ]
  },
  {
   "cell_type": "code",
   "execution_count": 12,
   "metadata": {},
   "outputs": [
    {
     "name": "stdout",
     "output_type": "stream",
     "text": [
      "Word embeddings: 1193515\n"
     ]
    }
   ],
   "source": [
    "# Load curated data from GloVe's embeddings\n",
    "embeddings_index = {}\n",
    "with open('glove.twitter.27B.200d.txt', encoding='utf-8') as f:\n",
    "    for line in f:\n",
    "        values = line.split(' ')\n",
    "        word = values[0]\n",
    "        embedding = np.asarray(values[1:], dtype='float32')\n",
    "        embeddings_index[word] = embedding\n",
    "\n",
    "print('Word embeddings:', len(embeddings_index))"
   ]
  },
  {
   "cell_type": "code",
   "execution_count": 13,
   "metadata": {},
   "outputs": [
    {
     "name": "stdout",
     "output_type": "stream",
     "text": [
      "Number of Embeddings: 138153\n",
      "Number of Null Embeddings: 12386\n",
      "% of Null Embeddings: 8.97%\n"
     ]
    }
   ],
   "source": [
    "# Using embedding index, create an 'average' embedding for each tweet\n",
    "\n",
    "#Match the glo-ve dimensions with 200\n",
    "embedding_dim = 200 \n",
    "\n",
    "# Contains the 'average' embedding for each tweet\n",
    "embed_tweets = [] \n",
    "total_embeds = 0 \n",
    "null_embeds = 0 \n",
    "\n",
    "for tweet in cleaned_tweets:\n",
    "    # Set default embedding as zero for each tweet\n",
    "    avg_embed = np.zeros(embedding_dim) \n",
    "    for word in tweet.split():\n",
    "        total_embeds += 1\n",
    "        embed = embeddings_index.get(word)\n",
    "        if embed is not None:\n",
    "            # Add embedding's values to vectors\n",
    "            avg_embed += embed \n",
    "        else:\n",
    "            null_embeds += 1\n",
    "    embed_tweets.append(avg_embed/len(tweet.split()))\n",
    "\n",
    "print(\"Number of Embeddings:\", total_embeds)\n",
    "print(\"Number of Null Embeddings:\", null_embeds)\n",
    "print(\"% of Null Embeddings: {}%\".format(round(null_embeds/total_embeds,4)*100))"
   ]
  },
  {
   "cell_type": "markdown",
   "metadata": {},
   "source": [
    "### 5.\tDimensionality Reduction: "
   ]
  },
  {
   "cell_type": "code",
   "execution_count": 14,
   "metadata": {
    "collapsed": true
   },
   "outputs": [],
   "source": [
    "# Reduce the dimensions of tweet from 200 to 1\n",
    "pca = PCA(n_components=1, random_state = 2)\n",
    "pca_tweets = pca.fit_transform(embed_tweets)"
   ]
  },
  {
   "cell_type": "code",
   "execution_count": 15,
   "metadata": {
    "collapsed": true
   },
   "outputs": [],
   "source": [
    "# Arranging tweets in ascending order based on their PCA values such that similar ones lie closer\n",
    "pca_tweets_list = []\n",
    "for tweet in pca_tweets:\n",
    "    pca_tweets_list.append(tweet[0])\n",
    "\n",
    "order = np.array(pca_tweets_list).argsort()\n",
    "pca_labels = order.argsort()\n",
    "# Odd valued label => Used for generating tweets\n",
    "# Even valued label => training tweets\n",
    "pca_labels *= 2 "
   ]
  },
  {
   "cell_type": "code",
   "execution_count": 16,
   "metadata": {},
   "outputs": [
    {
     "data": {
      "text/plain": [
       "array([4540,  464,  206, 4652, 5004], dtype=int64)"
      ]
     },
     "execution_count": 16,
     "metadata": {},
     "output_type": "execute_result"
    }
   ],
   "source": [
    "# Inspect pca_labels, finding all are even\n",
    "pca_labels[:5]"
   ]
  },
  {
   "cell_type": "markdown",
   "metadata": {},
   "source": [
    "### 6.\tK-Means Clustering:"
   ]
  },
  {
   "cell_type": "code",
   "execution_count": 17,
   "metadata": {
    "collapsed": true
   },
   "outputs": [],
   "source": [
    "# Grouping tweets into 4 clusters\n",
    "kmeans = KMeans(n_clusters=4, max_iter = 1000, n_init = 20, random_state=2).fit(pca_tweets)\n",
    "labels = kmeans.labels_"
   ]
  },
  {
   "cell_type": "code",
   "execution_count": 18,
   "metadata": {},
   "outputs": [
    {
     "data": {
      "text/plain": [
       "3    2782\n",
       "1    2600\n",
       "2    1674\n",
       "0     315\n",
       "Name: 0, dtype: int64"
      ]
     },
     "execution_count": 18,
     "metadata": {},
     "output_type": "execute_result"
    }
   ],
   "source": [
    "# Inspect count of tweets in each group.\n",
    "pd.DataFrame(labels)[0].value_counts()"
   ]
  },
  {
   "cell_type": "markdown",
   "metadata": {},
   "source": [
    "### 7. Identifying stop, common and top words"
   ]
  },
  {
   "cell_type": "code",
   "execution_count": 19,
   "metadata": {
    "collapsed": true
   },
   "outputs": [],
   "source": [
    "# Words to not include when finding the most common words in each group\n",
    "stop_words = ['be','on','!','at','.',':','...','@',',','#','will','.m','in','a','the','with','to','by','and','my','is',\n",
    "              'of','for','new','via','are','that','has','have','all','as','it','so','they','do','he','just','this',\n",
    "              'was','who','your','from','his','about','get','but','am','up','if','can','would','than','should','dont',\n",
    "              'had','or','were','did','there','got','even','its','an']"
   ]
  },
  {
   "cell_type": "code",
   "execution_count": 20,
   "metadata": {
    "collapsed": true
   },
   "outputs": [],
   "source": [
    "#Find the n most common words in each group\n",
    "def top_n_words(group, n_words):\n",
    "    # Create the map for each group\n",
    "    vocab = {} \n",
    "    for i in range(len(cleaned_tweets)):\n",
    "        if labels[i] == group:\n",
    "            for word in cleaned_tweets[i].split():\n",
    "                if word not in vocab:\n",
    "                    vocab[word] = 1\n",
    "                else:\n",
    "                    vocab[word] += 1\n",
    "      \n",
    "    # Sort the map from most to least common words i.e. descending order\n",
    "    sorted_vocab = sorted(vocab.items(), key=operator.itemgetter(1), reverse=True)\n",
    "    top_n_words = []\n",
    "    for word, value in sorted_vocab:\n",
    "        if word not in stop_words:\n",
    "            top_n_words.append(word)\n",
    "        if len(top_n_words) == n_words:\n",
    "            break\n",
    "    print(top_n_words)"
   ]
  },
  {
   "cell_type": "code",
   "execution_count": 21,
   "metadata": {},
   "outputs": [
    {
     "name": "stdout",
     "output_type": "stream",
     "text": [
      "Group # 1\n",
      "['trump2016', 'makeamericagreatagain', 'realdonaldtrump', 'trump', 'rt', 'poll', 'danscavino', 'news', 'gop', 'you']\n",
      "Group # 2\n",
      "['realdonaldtrump', 'you', 'trump', 'i', 'great', 'thank', 'we', 'news', 'america', 'rt']\n",
      "Group # 3\n",
      "['realdonaldtrump', 'trump', 'you', 'trump2016', 'thank', 'makeamericagreatagain', 'rt', 'news', 'poll', 'donald']\n",
      "Group # 4\n",
      "['i', 'you', 'great', 'we', 'not', 'me', 'people', 'hillary', 'thank', 'our']\n"
     ]
    }
   ],
   "source": [
    "# Printing top 10 words in each group \n",
    "groups = len(np.unique(labels))\n",
    "for i in range(groups):\n",
    "    print(\"Group #\",i+1)\n",
    "    top_n_words(i, 10)"
   ]
  },
  {
   "cell_type": "code",
   "execution_count": 22,
   "metadata": {},
   "outputs": [
    {
     "name": "stdout",
     "output_type": "stream",
     "text": [
      "Trump's 100 most popular tweeted words (excluding stop words):\n",
      "['you', 'i', 'realdonaldtrump', 'trump', 'great', 'thank', 'we', 'trump2016', 'me', 'hillary', 'news', 'not', 'makeamericagreatagain', 'america', 'rt', 'people', 'our', '?', 'fox', 'out', 'poll', 'make', 'no', 'again', 'donald', 'very', 'clinton', 'cnn', 'now', 'pm', 'like', 'president', 'more', 'big', 'vote', 'debate', 'tonight', 'she', 'what', 'time', 'us', 'one', 'cruz', 'her', 'crooked', 'going', 'only', 'country', 'last', 'back', 'today', 'why', 'join', 'said', 'many', 'never', 'iowa', 'him', 'good', 'been', 'much', 'how', 'watch', 'win', 'when', 'night', 'love', 'want', 'media', 'enjoy', 'polls', 'bad', 'gop', 'support', 'tomorrow', 'go', 'job', 'see', 'campaign', 'interviewed', 'rubio', 'jeb', 'crowd', 'amazing', 'ted', 'their', 'cant', 'nice', 'need', 'really', 'them', 'thanks', 'wow', 'show', '00', 'obama', '7', 'over', 'speech', 'way']\n"
     ]
    }
   ],
   "source": [
    "# Generalizing thw most common words from all of Trump's tweets\n",
    "n_words = 100\n",
    "sorted_vocab = sorted(word_map.items(), key=operator.itemgetter(1), reverse=True)\n",
    "top_n_words = []\n",
    "for word, value in sorted_vocab:\n",
    "    if word not in stop_words:\n",
    "        top_n_words.append(word)\n",
    "    if len(top_n_words) == n_words:\n",
    "        break\n",
    "print(\"Trump's {} most popular tweeted words (excluding stop words):\".format(n_words))\n",
    "print(top_n_words)"
   ]
  },
  {
   "cell_type": "markdown",
   "metadata": {},
   "source": [
    "### 8. Data Visualization"
   ]
  },
  {
   "cell_type": "markdown",
   "metadata": {},
   "source": [
    "#### Printing Tweets group-wise"
   ]
  },
  {
   "cell_type": "code",
   "execution_count": 23,
   "metadata": {
    "collapsed": true
   },
   "outputs": [],
   "source": [
    "#Method to print first n tweets from a group\n",
    "def print_tweet_group(group, n_tweets):\n",
    "    count = 1\n",
    "    for i in range(len(cleaned_tweets)):\n",
    "        if labels[i] == group:\n",
    "            print(\"#{}: {}\".format(count, cleaned_tweets[i]))\n",
    "            count += 1\n",
    "            if count == n_tweets+1:\n",
    "                break"
   ]
  },
  {
   "cell_type": "code",
   "execution_count": 24,
   "metadata": {},
   "outputs": [
    {
     "name": "stdout",
     "output_type": "stream",
     "text": [
      "Group # 1\n",
      "#1:  # electionday \n",
      "#2: rt  @ donaldjtrumpjr :  thanks new hampshire ! !\n",
      " # nh  # newhampshire  # maga \n",
      "#3:  # draintheswamp !\n",
      "\n",
      "#4:  # makeamericagreatagain  # 6days \n",
      "#5:  @ pynance :  evangelical women live at  # trumptower  @ pdpryor1  @ cissieglynch  @ saysgabrielle \n",
      "\n",
      "Group # 2\n",
      "#1: rt  @ ivankatrump :  such a surreal moment to vote for my father for president of the united states ! make your voice heard and vote !  # election2\n",
      "#2: rt  @ erictrump :  join my family in this incredible movement to  # makeamericagreatagain ! now it is up to you ! please  # vote for america ! https : \n",
      "#3: rt  @ donaldjtrumpjr :  final push ! eric and i doing dozens of radio interviews we can win this thing ! get out and vote !  # maga  # electionday ht\n",
      "#4: just out according to  @ cnn :  utah officials report voting machine problems across entire country\n",
      "#5: rt  @ erictrump :  sean hannity :  if hillary wins you own it \n",
      "\n",
      "Group # 3\n",
      "#1: watching the returns at 9 : 45 pm \n",
      " # electionnight  # maga \n",
      "#2: still time to  # votetrump !\n",
      " # ivoted  # electionnight \n",
      "#3: hey missouri lets defeat crooked hillary and  @ koster4missouri ! koster supports obamacare and amnesty ! vote outsider navy seal  @ ericgreitens !\n",
      "#4: monday  11/7/2016\n",
      "\n",
      "scranton pennsylvania at 5 : 30 pm \n",
      "grand rapids michigan at 11 pm  \n",
      "#5: rt  @ ivankatrump :  thank you new hampshire !  \n",
      "\n",
      "Group # 4\n",
      "#1: today we express our deepest gratitude to all those who have served in our armed forces  # thankavet \n",
      "#2: busy day planned in new york will soon be making some very important decisions on the people who will be running our government !\n",
      "#3: love the fact that the small groups of protesters last night have passion for our great country we will all come together and be proud !\n",
      "#4: just had a very open and successful presidential election now professional protesters incited by the media are protesting very unfair !\n",
      "#5: a fantastic day in dc met with president obama for first time really good meeting great chemistry melania liked mrs o a lot !\n",
      "\n"
     ]
    }
   ],
   "source": [
    "# Calling function to print the first 5 tweets in each group\n",
    "n_tweets = 5\n",
    "for i in range(groups):\n",
    "    print(\"Group #\",i+1)\n",
    "    print_tweet_group(i,n_tweets)\n",
    "    print()"
   ]
  },
  {
   "cell_type": "markdown",
   "metadata": {},
   "source": [
    "We can clearly see that the tweets are categorized as,\n",
    "1. Short tweets containing many # or @\n",
    "2. Retweets possessing long texts\n",
    "3. Relating containing datae,time or location\n",
    "4. Longer tweets"
   ]
  },
  {
   "cell_type": "code",
   "execution_count": 25,
   "metadata": {},
   "outputs": [],
   "source": [
    "# Visualize the tweets with t-distributed stochastic neighbor embedding(TSNE)\n",
    "model = TSNE(n_components=2, random_state=2)\n",
    "TSNE_tweets = model.fit_transform(embed_tweets)"
   ]
  },
  {
   "cell_type": "code",
   "execution_count": 25,
   "metadata": {},
   "outputs": [
    {
     "data": {
      "image/png": "[encoded data removed]",
      "text/plain": [
       "<matplotlib.figure.Figure at 0x27685e43550>"
      ]
     },
     "metadata": {},
     "output_type": "display_data"
    }
   ],
   "source": [
    "# Build a scatter plot to visualize the t-SNE tweets.\n",
    "color_map = {0:'red', 1:'orange', 2:'yellow', 3:'blue'}\n",
    "plt.figure(figsize=(12,5))\n",
    "\n",
    "for i in range(len(TSNE_tweets)):\n",
    "    plt.scatter(x = TSNE_tweets[i][0], \n",
    "                y = TSNE_tweets[i][1],\n",
    "                c = color_map[labels[i]])\n",
    "plt.xlabel('X in t-SNE')\n",
    "plt.ylabel('Y in t-SNE')\n",
    "plt.title('Trump\\'s Tweet Types')\n",
    "\n",
    "offset = 2\n",
    "x_min = min(TSNE_tweets, key=itemgetter(0))[0] - offset\n",
    "x_max = max(TSNE_tweets, key=itemgetter(0))[0] + offset\n",
    "y_min = min(TSNE_tweets, key=itemgetter(1))[1] - offset\n",
    "y_max = max(TSNE_tweets, key=itemgetter(1))[1] + offset\n",
    "\n",
    "axes = plt.gca()\n",
    "axes.set_xlim([x_min,x_max])\n",
    "axes.set_ylim([y_min,y_max])\n",
    "plt.show()"
   ]
  },
  {
   "cell_type": "code",
   "execution_count": 26,
   "metadata": {},
   "outputs": [
    {
     "data": {
      "image/png": "[encoded data removed]",
      "text/plain": [
       "<matplotlib.figure.Figure at 0x179565177f0>"
      ]
     },
     "metadata": {},
     "output_type": "display_data"
    }
   ],
   "source": [
    "# Scatterplot to visualize the tweet groups by their PCA labels\n",
    "color_map = {0:'red', 1:'orange', 2:'yellow', 3:'blue'}\n",
    "plt.figure(figsize=(12,3))\n",
    "for i in range(len(TSNE_tweets)):\n",
    "    plt.scatter(x = pca_labels[i], \n",
    "                y = labels[i]+1,\n",
    "                c = color_map[labels[i]])\n",
    "    \n",
    "plt.xlabel('PCA-Label')\n",
    "plt.ylabel('Tweet-Group')\n",
    "plt.title('PCA Label vs Tweet Group')\n",
    "    \n",
    "plt.show()"
   ]
  },
  {
   "cell_type": "markdown",
   "metadata": {},
   "source": [
    "### 8. Preparing Training Data"
   ]
  },
  {
   "cell_type": "code",
   "execution_count": 27,
   "metadata": {},
   "outputs": [
    {
     "name": "stdout",
     "output_type": "stream",
     "text": [
      "Number of Unique Words: 11612\n",
      "Number of Words above Threshold: 1375\n",
      "Percent of Words above Threshold: 11.84%\n"
     ]
    }
   ],
   "source": [
    "# Limiting the words used which appeared ≥ threshold \n",
    "\n",
    "#dictionary to convert words to integers\n",
    "vocab_to_int = {} \n",
    "\n",
    "#Setting the limit of count to 10\n",
    "threshold = 10\n",
    "\n",
    "value = 0\n",
    "for word, count in word_map.items():\n",
    "    if count >= threshold:\n",
    "        vocab_to_int[word] = value\n",
    "        value += 1\n",
    "\n",
    "# Special tokens that will be added to our vocab\n",
    "codes = [\"<UNK>\",\"<GO>\",\"<PAD>\",\"<EOS>\"]   \n",
    "\n",
    "for code in codes:\n",
    "    vocab_to_int[code] = len(vocab_to_int)+1\n",
    "\n",
    "# Dictionary to convert integers to words\n",
    "int_to_vocab = {}\n",
    "for word, value in vocab_to_int.items():\n",
    "    int_to_vocab[value] = word\n",
    "\n",
    "word_ratio = round(len(vocab_to_int) / len(word_map),4)*100\n",
    "\n",
    "print(\"Number of Unique Words:\", len(word_map))\n",
    "print(\"Number of Words above Threshold:\", len(vocab_to_int))\n",
    "print(\"Percent of Words above Threshold: {}%\".format(word_ratio))"
   ]
  },
  {
   "cell_type": "code",
   "execution_count": 28,
   "metadata": {},
   "outputs": [],
   "source": [
    "# Convert the tweets from words to integers\n",
    "# If word is not in vocabulary, replace it with <UNK> (unknown) tag\n",
    "int_tweets = []\n",
    "\n",
    "for tweet in cleaned_tweets:\n",
    "    int_tweet = []\n",
    "    for word in tweet.split():\n",
    "        if word in vocab_to_int:\n",
    "            int_tweet.append(vocab_to_int[word])\n",
    "        else:\n",
    "            int_tweet.append(vocab_to_int[\"<UNK>\"])\n",
    "    int_tweets.append(int_tweet)"
   ]
  },
  {
   "cell_type": "code",
   "execution_count": 29,
   "metadata": {
    "collapsed": true
   },
   "outputs": [],
   "source": [
    "# Find the length of tweets\n",
    "lengths = []\n",
    "for tweet in int_tweets:\n",
    "    lengths.append(len(tweet))\n",
    "\n",
    "# Create a dataframe to inspect the lengths\n",
    "lengths = pd.DataFrame(lengths, columns=['counts'])"
   ]
  },
  {
   "cell_type": "code",
   "execution_count": 30,
   "metadata": {},
   "outputs": [
    {
     "data": {
      "text/html": [
       "<div>\n",
       "<table border=\"1\" class=\"dataframe\">\n",
       "  <thead>\n",
       "    <tr style=\"text-align: right;\">\n",
       "      <th></th>\n",
       "      <th>counts</th>\n",
       "    </tr>\n",
       "  </thead>\n",
       "  <tbody>\n",
       "    <tr>\n",
       "      <th>count</th>\n",
       "      <td>7371.000000</td>\n",
       "    </tr>\n",
       "    <tr>\n",
       "      <th>mean</th>\n",
       "      <td>18.742776</td>\n",
       "    </tr>\n",
       "    <tr>\n",
       "      <th>std</th>\n",
       "      <td>6.713868</td>\n",
       "    </tr>\n",
       "    <tr>\n",
       "      <th>min</th>\n",
       "      <td>1.000000</td>\n",
       "    </tr>\n",
       "    <tr>\n",
       "      <th>25%</th>\n",
       "      <td>14.000000</td>\n",
       "    </tr>\n",
       "    <tr>\n",
       "      <th>50%</th>\n",
       "      <td>20.000000</td>\n",
       "    </tr>\n",
       "    <tr>\n",
       "      <th>75%</th>\n",
       "      <td>24.000000</td>\n",
       "    </tr>\n",
       "    <tr>\n",
       "      <th>max</th>\n",
       "      <td>35.000000</td>\n",
       "    </tr>\n",
       "  </tbody>\n",
       "</table>\n",
       "</div>"
      ],
      "text/plain": [
       "            counts\n",
       "count  7371.000000\n",
       "mean     18.742776\n",
       "std       6.713868\n",
       "min       1.000000\n",
       "25%      14.000000\n",
       "50%      20.000000\n",
       "75%      24.000000\n",
       "max      35.000000"
      ]
     },
     "execution_count": 30,
     "metadata": {},
     "output_type": "execute_result"
    }
   ],
   "source": [
    "lengths.describe()"
   ]
  },
  {
   "cell_type": "code",
   "execution_count": 31,
   "metadata": {},
   "outputs": [
    {
     "name": "stdout",
     "output_type": "stream",
     "text": [
      "Number of Tweets in total: 7371\n",
      "Number of Tweets used in training: 2205\n",
      "Percentage of Tweets used: 29.909999999999997%\n"
     ]
    }
   ],
   "source": [
    "#Considering the tweets that are between the min and max lengths (1 and 25) and ≤ the <UNK> limit\n",
    "\n",
    "max_tweet_length = 25\n",
    "min_tweet_length = 1\n",
    "unk_limit = 1\n",
    "\n",
    "short_tweets = []\n",
    "short_labels = []\n",
    "\n",
    "for i in range(len(int_tweets)):\n",
    "    unk_count = 0\n",
    "    if len(int_tweets[i]) <= max_tweet_length and len(int_tweets[i]) >= min_tweet_length:\n",
    "        if len(int_tweets[i]) == 1:\n",
    "            if int_tweets[i][0] != vocab_to_int['<UNK>']:\n",
    "                short_tweets.append(int_tweets[i])\n",
    "                short_labels.append(pca_labels[i])\n",
    "        else:\n",
    "            for word in int_tweets[i]:\n",
    "                if word == vocab_to_int['<UNK>']:\n",
    "                    unk_count += 1\n",
    "            if unk_count <= unk_limit:\n",
    "                short_tweets.append(int_tweets[i])\n",
    "                short_labels.append(pca_labels[i])\n",
    "        \n",
    "\n",
    "usage_precent = round(len(short_tweets)/len(cleaned_tweets),4)*100\n",
    "        \n",
    "print(\"Number of Tweets in total:\", len(cleaned_tweets))\n",
    "print(\"Number of Tweets used in training:\", len(short_tweets))\n",
    "print(\"Percentage of Tweets used: {}%\".format(usage_precent))"
   ]
  },
  {
   "cell_type": "code",
   "execution_count": 32,
   "metadata": {},
   "outputs": [
    {
     "name": "stdout",
     "output_type": "stream",
     "text": [
      "2205\n",
      "2205\n"
     ]
    }
   ],
   "source": [
    "# Sorting tweets by their lengths to improve the training rate and reduce padding.\n",
    "sorted_tweets = []\n",
    "sorted_labels = []\n",
    "\n",
    "for length in range(1,max_tweet_length+1):\n",
    "    for i in range(len(short_tweets)):\n",
    "        if length == len(short_tweets[i]):\n",
    "            sorted_tweets.append(short_tweets[i])\n",
    "            sorted_labels.append([short_labels[i]])\n",
    "            \n",
    "print(len(sorted_tweets))\n",
    "print(len(sorted_labels))"
   ]
  },
  {
   "cell_type": "code",
   "execution_count": 33,
   "metadata": {},
   "outputs": [
    {
     "name": "stdout",
     "output_type": "stream",
     "text": [
      "Total Number of Words: 29533\n",
      "Number of uses of <UNK>: 1246\n",
      "Percent of words that are <UNK>: 4.22%\n"
     ]
    }
   ],
   "source": [
    "# Calculate the number/ratio of words that are <UNK>\n",
    "n_words = 0\n",
    "unk_words = 0\n",
    "for tweet in sorted_tweets:\n",
    "    for int in tweet:\n",
    "        n_words += 1\n",
    "        if int == vocab_to_int[\"<UNK>\"]:\n",
    "            unk_words += 1\n",
    "            \n",
    "unk_ratio = round(unk_words/n_words,4)*100\n",
    "            \n",
    "print(\"Total Number of Words:\", n_words)\n",
    "print(\"Number of uses of <UNK>:\", unk_words)\n",
    "print(\"Percent of words that are <UNK>: {}%\".format(unk_ratio))"
   ]
  },
  {
   "cell_type": "markdown",
   "metadata": {},
   "source": [
    "### 9. Build and Train the Model"
   ]
  },
  {
   "cell_type": "code",
   "execution_count": 56,
   "metadata": {
    "collapsed": true
   },
   "outputs": [],
   "source": [
    "# inputs placeholder\n",
    "def model_inputs():\n",
    "    input_data = tf.placeholder(tf.int32, [None, None], name='input')\n",
    "    targets = tf.placeholder(tf.int32, [None, None], name='targets')\n",
    "    lr = tf.placeholder(tf.float32, name='learning_rate')\n",
    "    keep_prob = tf.placeholder(tf.float32, name='keep_prob')\n",
    "\n",
    "    return input_data, targets, lr, keep_prob"
   ]
  },
  {
   "cell_type": "code",
   "execution_count": 57,
   "metadata": {
    "collapsed": true
   },
   "outputs": [],
   "source": [
    "# Removing the last id, concat the <GO> at begin of each batch\n",
    "def process_encoding_input(target_data, vocab_to_int, batch_size):\n",
    "    ending = tf.strided_slice(target_data, [0, 0], [batch_size, -1], [1, 1])\n",
    "    dec_input = tf.concat([tf.fill([batch_size, 1], vocab_to_int['<GO>']), ending], 1)\n",
    "\n",
    "    return dec_input"
   ]
  },
  {
   "cell_type": "code",
   "execution_count": 58,
   "metadata": {
    "collapsed": true
   },
   "outputs": [],
   "source": [
    "# create encoding layer\n",
    "def encoding_layer(rnn_inputs, rnn_size, num_layers, keep_prob, sequence_length):\n",
    "    lstm = tf.contrib.rnn.BasicLSTMCell(rnn_size)\n",
    "    enc_cell = tf.contrib.rnn.MultiRNNCell([lstm] * num_layers)\n",
    "    _, enc_state = tf.nn.dynamic_rnn(enc_cell,\n",
    "                                     rnn_inputs, \n",
    "                                     sequence_length,\n",
    "                                     dtype=tf.float32)\n",
    "    return enc_state"
   ]
  },
  {
   "cell_type": "code",
   "execution_count": 60,
   "metadata": {
    "collapsed": true
   },
   "outputs": [],
   "source": [
    "# Decoding training data\n",
    "def decoding_layer_train(encoder_state, dec_cell, dec_embed_input, sequence_length, decoding_scope,\n",
    "                         output_fn, keep_prob, batch_size):\n",
    "    train_decoder_fn = tf.contrib.seq2seq.simple_decoder_fn_train(encoder_state)\n",
    "    train_pred, _, _ = tf.contrib.seq2seq.dynamic_rnn_decoder(\n",
    "        dec_cell, train_decoder_fn, dec_embed_input, sequence_length, scope=decoding_scope)\n",
    "    train_pred_drop = tf.nn.dropout(train_pred, keep_prob)\n",
    "    return output_fn(train_pred_drop)"
   ]
  },
  {
   "cell_type": "code",
   "execution_count": 61,
   "metadata": {
    "collapsed": true
   },
   "outputs": [],
   "source": [
    "# Decoding predictions\n",
    "def decoding_layer_infer(encoder_state, dec_cell, dec_embeddings, start_of_sequence_id, end_of_sequence_id,\n",
    "                         maximum_length, vocab_size, decoding_scope, output_fn):\n",
    "    infer_decoder_fn = tf.contrib.seq2seq.simple_decoder_fn_inference(\n",
    "        output_fn, encoder_state, dec_embeddings, start_of_sequence_id, end_of_sequence_id, maximum_length, vocab_size)\n",
    "    infer_logits, _, _ = tf.contrib.seq2seq.dynamic_rnn_decoder(\n",
    "        dec_cell, infer_decoder_fn, scope=decoding_scope)\n",
    "    return infer_logits"
   ]
  },
  {
   "cell_type": "code",
   "execution_count": 62,
   "metadata": {
    "collapsed": true
   },
   "outputs": [],
   "source": [
    "# Create the decoding layer\n",
    "def decoding_layer(dec_embed_input, dec_embeddings, encoder_state, vocab_size, sequence_length, rnn_size,\n",
    "                   num_layers, vocab_to_int, keep_prob, batch_size):\n",
    "    with tf.variable_scope(\"decoding\") as decoding_scope:\n",
    "        lstm = tf.contrib.rnn.BasicLSTMCell(rnn_size)\n",
    "        drop = tf.contrib.rnn.DropoutWrapper(lstm, input_keep_prob = keep_prob)\n",
    "        dec_cell = tf.contrib.rnn.MultiRNNCell([drop] * num_layers)\n",
    "        \n",
    "        weights = tf.truncated_normal_initializer(mean = 0.0, stddev=0.1)\n",
    "        biases = tf.zeros_initializer()\n",
    "        output_fn = lambda x: tf.contrib.layers.fully_connected(x, \n",
    "                                                                vocab_size, \n",
    "                                                                None, \n",
    "                                                                scope=decoding_scope,\n",
    "                                                                weights_initializer = weights,\n",
    "                                                                biases_initializer = biases)\n",
    "\n",
    "        train_logits = decoding_layer_train(encoder_state, \n",
    "                                            dec_cell, \n",
    "                                            dec_embed_input, \n",
    "                                            sequence_length, \n",
    "                                            decoding_scope, \n",
    "                                            output_fn, \n",
    "                                            keep_prob, \n",
    "                                            batch_size)\n",
    "        decoding_scope.reuse_variables()\n",
    "        infer_logits = decoding_layer_infer(encoder_state, \n",
    "                                            dec_cell, \n",
    "                                            dec_embeddings, \n",
    "                                            vocab_to_int['<GO>'],\n",
    "                                            vocab_to_int['<EOS>'], \n",
    "                                            sequence_length - 1, \n",
    "                                            vocab_size,\n",
    "                                            decoding_scope, \n",
    "                                            output_fn)\n",
    "\n",
    "    return train_logits, infer_logits"
   ]
  },
  {
   "cell_type": "code",
   "execution_count": 63,
   "metadata": {
    "collapsed": true
   },
   "outputs": [],
   "source": [
    "# create the training and inference logits\n",
    "def one2seq_model(input_data, target_data, keep_prob, batch_size, sequence_length, vocab_size, \n",
    "                  embedding_size, rnn_size, num_layers, vocab_to_int):\n",
    "    enc_embed_input = tf.contrib.layers.embed_sequence(input_data, \n",
    "                                                       max(short_labels)+1, \n",
    "                                                       embedding_size,\n",
    "                                                       initializer = tf.random_uniform_initializer(-1,1))\n",
    "    enc_state = encoding_layer(enc_embed_input, rnn_size, num_layers, keep_prob, sequence_length)\n",
    "\n",
    "    dec_input = process_encoding_input(target_data, vocab_to_int, batch_size)\n",
    "    dec_embeddings = tf.Variable(tf.random_uniform([vocab_size+1, embedding_size], -1, 1))\n",
    "\n",
    "    dec_embed_input = tf.nn.embedding_lookup(dec_embeddings, \n",
    "                                             dec_input)\n",
    "    \n",
    "    train_logits, infer_logits = decoding_layer(dec_embed_input, \n",
    "                                                dec_embeddings, \n",
    "                                                enc_state, \n",
    "                                                vocab_size, \n",
    "                                                sequence_length, \n",
    "                                                rnn_size, \n",
    "                                                num_layers, \n",
    "                                                vocab_to_int, \n",
    "                                                keep_prob, \n",
    "                                                batch_size)\n",
    "    return train_logits, infer_logits"
   ]
  },
  {
   "cell_type": "code",
   "execution_count": 64,
   "metadata": {
    "collapsed": true
   },
   "outputs": [],
   "source": [
    "# Padding tweets with <PAD> making each tweet to equal length\n",
    "def pad_tweets_batch(tweets_batch):\n",
    "    max_tweet = max([len(tweet) for tweet in tweets_batch])\n",
    "    return [tweet + [vocab_to_int['<PAD>']] * (max_tweet - len(tweet)) for tweet in tweets_batch]"
   ]
  },
  {
   "cell_type": "code",
   "execution_count": 65,
   "metadata": {
    "collapsed": true
   },
   "outputs": [],
   "source": [
    "# labels and tweets joined together\n",
    "def  get_batches(labels, tweets, batch_size):\n",
    "    for batch_i in range(0, len(labels)//batch_size):\n",
    "        start_i = batch_i * batch_size\n",
    "        labels_batch = np.array(labels[start_i:start_i + batch_size])\n",
    "        tweets_batch = tweets[start_i:start_i + batch_size]\n",
    "        padded_tweets_batch = np.array(pad_tweets_batch(tweets_batch))\n",
    "        yield labels_batch, padded_tweets_batch"
   ]
  },
  {
   "cell_type": "code",
   "execution_count": 66,
   "metadata": {
    "collapsed": true
   },
   "outputs": [],
   "source": [
    "# Hyperparameters for training such that training is effective\n",
    "epochs = 100\n",
    "batch_size = 32\n",
    "rnn_size = 512\n",
    "num_layers = 2\n",
    "embedding_size = 200\n",
    "learning_rate = 0.005\n",
    "keep_probability = 0.5"
   ]
  },
  {
   "cell_type": "code",
   "execution_count": 67,
   "metadata": {
    "scrolled": false
   },
   "outputs": [
    {
     "name": "stdout",
     "output_type": "stream",
     "text": [
      "1234234234\n"
     ]
    }
   ],
   "source": [
    "# graph construction\n",
    "train_graph = tf.Graph()\n",
    "# default graph to make sure it is ready for training\n",
    "with train_graph.as_default():\n",
    "    \n",
    "    # model inputs    \n",
    "    input_data, targets, lr, keep_prob = model_inputs()\n",
    "    # maximum tweet length for each batch\n",
    "    sequence_length = tf.placeholder_with_default(max_tweet_length, None, name='sequence_length')\n",
    "    # shape of the input data for sequence_loss\n",
    "    input_shape = tf.shape(input_data)\n",
    "    # Creating training and inference logits\n",
    "    train_logits, inference_logits = one2seq_model(input_data, \n",
    "                                                   targets, \n",
    "                                                   keep_prob, \n",
    "                                                   batch_size, \n",
    "                                                   sequence_length, \n",
    "                                                   len(vocab_to_int), \n",
    "                                                   embedding_size, \n",
    "                                                   rnn_size, \n",
    "                                                   num_layers, \n",
    "                                                   vocab_to_int)\n",
    "\n",
    "    # Create a tensor \n",
    "    tf.identity(inference_logits, 'logits')\n",
    "\n",
    "    with tf.name_scope(\"optimization\"):\n",
    "        # defining the loss function\n",
    "        cost = tf.contrib.seq2seq.sequence_loss(\n",
    "            train_logits,\n",
    "            targets,\n",
    "            tf.ones([input_shape[0], sequence_length]))\n",
    "\n",
    "        # Optimizer\n",
    "        optimizer = tf.train.AdamOptimizer(learning_rate)\n",
    "\n",
    "        # Gradient Clipping\n",
    "        gradients = optimizer.compute_gradients(cost)\n",
    "        capped_gradients = [(tf.clip_by_value(grad, -5., 5.), var) for grad, var in gradients if grad is not None]\n",
    "        train_op = optimizer.apply_gradients(capped_gradients)"
   ]
  },
  {
   "cell_type": "code",
   "execution_count": 69,
   "metadata": {},
   "outputs": [
    {
     "name": "stdout",
     "output_type": "stream",
     "text": [
      "Epoch   1/100 Batch   20/68 - Loss:  5.557, Seconds: 10.13\n",
      "Epoch   1/100 Batch   40/68 - Loss:  5.010, Seconds: 16.14\n",
      "Epoch   1/100 Batch   60/68 - Loss:  5.242, Seconds: 29.52\n",
      "Average loss for this epoch: 5.309\n",
      "New Record!\n",
      "Epoch   2/100 Batch   20/68 - Loss:  3.880, Seconds: 9.06\n",
      "Epoch   2/100 Batch   40/68 - Loss:  4.234, Seconds: 13.54\n",
      "Epoch   2/100 Batch   60/68 - Loss:  4.658, Seconds: 22.05\n",
      "Average loss for this epoch: 4.362\n",
      "New Record!\n",
      "Epoch   3/100 Batch   20/68 - Loss:  3.397, Seconds: 9.06\n",
      "Epoch   3/100 Batch   40/68 - Loss:  3.819, Seconds: 13.61\n",
      "Epoch   3/100 Batch   60/68 - Loss:  4.469, Seconds: 21.51\n",
      "Average loss for this epoch: 4.019\n",
      "New Record!\n",
      "Epoch   4/100 Batch   20/68 - Loss:  3.218, Seconds: 10.90\n",
      "Epoch   4/100 Batch   40/68 - Loss:  3.596, Seconds: 16.43\n",
      "Epoch   4/100 Batch   60/68 - Loss:  4.178, Seconds: 26.62\n",
      "Average loss for this epoch: 3.786\n",
      "New Record!\n",
      "Epoch   5/100 Batch   20/68 - Loss:  2.850, Seconds: 11.08\n",
      "Epoch   5/100 Batch   40/68 - Loss:  3.361, Seconds: 16.43\n",
      "Epoch   5/100 Batch   60/68 - Loss:  3.957, Seconds: 23.44\n",
      "Average loss for this epoch: 3.521\n",
      "New Record!\n",
      "Epoch   6/100 Batch   20/68 - Loss:  2.523, Seconds: 10.77\n",
      "Epoch   6/100 Batch   40/68 - Loss:  3.162, Seconds: 16.48\n",
      "Epoch   6/100 Batch   60/68 - Loss:  3.756, Seconds: 26.67\n",
      "Average loss for this epoch: 3.284\n",
      "New Record!\n",
      "Epoch   7/100 Batch   20/68 - Loss:  2.238, Seconds: 10.79\n",
      "Epoch   7/100 Batch   40/68 - Loss:  2.990, Seconds: 16.27\n",
      "Epoch   7/100 Batch   60/68 - Loss:  3.592, Seconds: 25.46\n",
      "Average loss for this epoch: 3.085\n",
      "New Record!\n",
      "Epoch   8/100 Batch   20/68 - Loss:  1.999, Seconds: 11.69\n",
      "Epoch   8/100 Batch   40/68 - Loss:  2.821, Seconds: 15.43\n",
      "Epoch   8/100 Batch   60/68 - Loss:  3.428, Seconds: 20.18\n",
      "Average loss for this epoch: 2.9\n",
      "New Record!\n",
      "Epoch   9/100 Batch   20/68 - Loss:  1.753, Seconds: 9.08\n",
      "Epoch   9/100 Batch   40/68 - Loss:  2.648, Seconds: 13.87\n",
      "Epoch   9/100 Batch   60/68 - Loss:  3.276, Seconds: 23.08\n",
      "Average loss for this epoch: 2.712\n",
      "New Record!\n",
      "Epoch  10/100 Batch   20/68 - Loss:  1.569, Seconds: 9.09\n",
      "Epoch  10/100 Batch   40/68 - Loss:  2.502, Seconds: 15.60\n",
      "Epoch  10/100 Batch   60/68 - Loss:  3.157, Seconds: 21.61\n",
      "Average loss for this epoch: 2.567\n",
      "New Record!\n",
      "Epoch  11/100 Batch   20/68 - Loss:  1.371, Seconds: 8.95\n",
      "Epoch  11/100 Batch   40/68 - Loss:  2.318, Seconds: 14.01\n",
      "Epoch  11/100 Batch   60/68 - Loss:  3.042, Seconds: 21.15\n",
      "Average loss for this epoch: 2.405\n",
      "New Record!\n",
      "Epoch  12/100 Batch   20/68 - Loss:  1.146, Seconds: 9.13\n",
      "Epoch  12/100 Batch   40/68 - Loss:  2.150, Seconds: 13.86\n",
      "Epoch  12/100 Batch   60/68 - Loss:  2.883, Seconds: 22.79\n",
      "Average loss for this epoch: 2.228\n",
      "New Record!\n",
      "Epoch  13/100 Batch   20/68 - Loss:  1.018, Seconds: 9.30\n",
      "Epoch  13/100 Batch   40/68 - Loss:  1.988, Seconds: 13.82\n",
      "Epoch  13/100 Batch   60/68 - Loss:  2.760, Seconds: 23.72\n",
      "Average loss for this epoch: 2.092\n",
      "New Record!\n",
      "Epoch  14/100 Batch   20/68 - Loss:  0.886, Seconds: 9.38\n",
      "Epoch  14/100 Batch   40/68 - Loss:  1.868, Seconds: 15.77\n",
      "Epoch  14/100 Batch   60/68 - Loss:  2.620, Seconds: 23.11\n",
      "Average loss for this epoch: 1.961\n",
      "New Record!\n",
      "Epoch  15/100 Batch   20/68 - Loss:  0.777, Seconds: 8.85\n",
      "Epoch  15/100 Batch   40/68 - Loss:  1.741, Seconds: 16.94\n",
      "Epoch  15/100 Batch   60/68 - Loss:  2.480, Seconds: 23.42\n",
      "Average loss for this epoch: 1.836\n",
      "New Record!\n",
      "Epoch  16/100 Batch   20/68 - Loss:  0.692, Seconds: 8.79\n",
      "Epoch  16/100 Batch   40/68 - Loss:  1.627, Seconds: 13.83\n",
      "Epoch  16/100 Batch   60/68 - Loss:  2.360, Seconds: 20.78\n",
      "Average loss for this epoch: 1.734\n",
      "New Record!\n",
      "Epoch  17/100 Batch   20/68 - Loss:  0.613, Seconds: 8.91\n",
      "Epoch  17/100 Batch   40/68 - Loss:  1.513, Seconds: 13.98\n",
      "Epoch  17/100 Batch   60/68 - Loss:  2.281, Seconds: 22.87\n",
      "Average loss for this epoch: 1.636\n",
      "New Record!\n",
      "Epoch  18/100 Batch   20/68 - Loss:  0.551, Seconds: 9.29\n",
      "Epoch  18/100 Batch   40/68 - Loss:  1.402, Seconds: 15.74\n",
      "Epoch  18/100 Batch   60/68 - Loss:  2.188, Seconds: 22.86\n",
      "Average loss for this epoch: 1.544\n",
      "New Record!\n",
      "Epoch  19/100 Batch   20/68 - Loss:  0.506, Seconds: 8.99\n",
      "Epoch  19/100 Batch   40/68 - Loss:  1.319, Seconds: 13.88\n",
      "Epoch  19/100 Batch   60/68 - Loss:  2.062, Seconds: 23.02\n",
      "Average loss for this epoch: 1.456\n",
      "New Record!\n",
      "Epoch  20/100 Batch   20/68 - Loss:  0.440, Seconds: 8.87\n",
      "Epoch  20/100 Batch   40/68 - Loss:  1.247, Seconds: 15.63\n",
      "Epoch  20/100 Batch   60/68 - Loss:  1.986, Seconds: 23.13\n",
      "Average loss for this epoch: 1.383\n",
      "New Record!\n",
      "Epoch  21/100 Batch   20/68 - Loss:  0.400, Seconds: 9.06\n",
      "Epoch  21/100 Batch   40/68 - Loss:  1.150, Seconds: 15.23\n",
      "Epoch  21/100 Batch   60/68 - Loss:  1.898, Seconds: 19.74\n",
      "Average loss for this epoch: 1.307\n",
      "New Record!\n",
      "Epoch  22/100 Batch   20/68 - Loss:  0.391, Seconds: 9.06\n",
      "Epoch  22/100 Batch   40/68 - Loss:  1.075, Seconds: 14.37\n",
      "Epoch  22/100 Batch   60/68 - Loss:  1.834, Seconds: 24.19\n",
      "Average loss for this epoch: 1.253\n",
      "New Record!\n",
      "Epoch  23/100 Batch   20/68 - Loss:  0.344, Seconds: 9.12\n",
      "Epoch  23/100 Batch   40/68 - Loss:  1.020, Seconds: 15.95\n",
      "Epoch  23/100 Batch   60/68 - Loss:  1.730, Seconds: 23.09\n",
      "Average loss for this epoch: 1.183\n",
      "New Record!\n",
      "Epoch  24/100 Batch   20/68 - Loss:  0.325, Seconds: 9.06\n",
      "Epoch  24/100 Batch   40/68 - Loss:  0.982, Seconds: 15.98\n",
      "Epoch  24/100 Batch   60/68 - Loss:  1.683, Seconds: 20.05\n",
      "Average loss for this epoch: 1.14\n",
      "New Record!\n",
      "Epoch  25/100 Batch   20/68 - Loss:  0.285, Seconds: 9.13\n",
      "Epoch  25/100 Batch   40/68 - Loss:  0.915, Seconds: 16.38\n",
      "Epoch  25/100 Batch   60/68 - Loss:  1.612, Seconds: 22.95\n",
      "Average loss for this epoch: 1.082\n",
      "New Record!\n",
      "Epoch  26/100 Batch   20/68 - Loss:  0.292, Seconds: 9.22\n",
      "Epoch  26/100 Batch   40/68 - Loss:  0.884, Seconds: 16.04\n",
      "Epoch  26/100 Batch   60/68 - Loss:  1.572, Seconds: 23.78\n",
      "Average loss for this epoch: 1.062\n",
      "New Record!\n",
      "Epoch  27/100 Batch   20/68 - Loss:  0.256, Seconds: 9.47\n",
      "Epoch  27/100 Batch   40/68 - Loss:  0.855, Seconds: 16.21\n",
      "Epoch  27/100 Batch   60/68 - Loss:  1.502, Seconds: 23.32\n",
      "Average loss for this epoch: 1.011\n",
      "New Record!\n",
      "Epoch  28/100 Batch   20/68 - Loss:  0.251, Seconds: 9.32\n",
      "Epoch  28/100 Batch   40/68 - Loss:  0.829, Seconds: 16.06\n",
      "Epoch  28/100 Batch   60/68 - Loss:  1.471, Seconds: 23.33\n",
      "Average loss for this epoch: 0.98\n",
      "New Record!\n",
      "Epoch  29/100 Batch   20/68 - Loss:  0.254, Seconds: 9.28\n",
      "Epoch  29/100 Batch   40/68 - Loss:  0.801, Seconds: 15.51\n",
      "Epoch  29/100 Batch   60/68 - Loss:  1.425, Seconds: 23.01\n",
      "Average loss for this epoch: 0.953\n",
      "New Record!\n",
      "Epoch  30/100 Batch   20/68 - Loss:  0.241, Seconds: 9.37\n",
      "Epoch  30/100 Batch   40/68 - Loss:  0.758, Seconds: 15.69\n",
      "Epoch  30/100 Batch   60/68 - Loss:  1.396, Seconds: 22.00\n",
      "Average loss for this epoch: 0.923\n",
      "New Record!\n",
      "Epoch  31/100 Batch   20/68 - Loss:  0.230, Seconds: 8.77\n",
      "Epoch  31/100 Batch   40/68 - Loss:  0.730, Seconds: 16.20\n",
      "Epoch  31/100 Batch   60/68 - Loss:  1.357, Seconds: 22.66\n",
      "Average loss for this epoch: 0.898\n",
      "New Record!\n",
      "Epoch  32/100 Batch   20/68 - Loss:  0.218, Seconds: 9.10\n",
      "Epoch  32/100 Batch   40/68 - Loss:  0.698, Seconds: 15.85\n",
      "Epoch  32/100 Batch   60/68 - Loss:  1.313, Seconds: 23.59\n",
      "Average loss for this epoch: 0.869\n",
      "New Record!\n",
      "Epoch  33/100 Batch   20/68 - Loss:  0.216, Seconds: 9.25\n",
      "Epoch  33/100 Batch   40/68 - Loss:  0.682, Seconds: 14.67\n",
      "Epoch  33/100 Batch   60/68 - Loss:  1.262, Seconds: 21.77\n",
      "Average loss for this epoch: 0.844\n",
      "New Record!\n",
      "Epoch  34/100 Batch   20/68 - Loss:  0.212, Seconds: 9.47\n",
      "Epoch  34/100 Batch   40/68 - Loss:  0.661, Seconds: 15.50\n",
      "Epoch  34/100 Batch   60/68 - Loss:  1.252, Seconds: 23.23\n",
      "Average loss for this epoch: 0.826\n",
      "New Record!\n",
      "Epoch  35/100 Batch   20/68 - Loss:  0.195, Seconds: 9.37\n",
      "Epoch  35/100 Batch   40/68 - Loss:  0.645, Seconds: 15.78\n",
      "Epoch  35/100 Batch   60/68 - Loss:  1.233, Seconds: 23.75\n",
      "Average loss for this epoch: 0.807\n",
      "New Record!\n",
      "Epoch  36/100 Batch   20/68 - Loss:  0.208, Seconds: 8.98\n",
      "Epoch  36/100 Batch   40/68 - Loss:  0.630, Seconds: 15.73\n",
      "Epoch  36/100 Batch   60/68 - Loss:  1.201, Seconds: 28.46\n",
      "Average loss for this epoch: 0.793\n",
      "New Record!\n",
      "Epoch  37/100 Batch   20/68 - Loss:  0.186, Seconds: 9.21\n",
      "Epoch  37/100 Batch   40/68 - Loss:  0.613, Seconds: 16.09\n",
      "Epoch  37/100 Batch   60/68 - Loss:  1.147, Seconds: 22.95\n",
      "Average loss for this epoch: 0.758\n",
      "New Record!\n",
      "Epoch  38/100 Batch   20/68 - Loss:  0.191, Seconds: 10.93\n",
      "Epoch  38/100 Batch   40/68 - Loss:  0.585, Seconds: 15.76\n",
      "Epoch  38/100 Batch   60/68 - Loss:  1.151, Seconds: 22.90\n",
      "Average loss for this epoch: 0.751\n",
      "New Record!\n",
      "Epoch  39/100 Batch   20/68 - Loss:  0.193, Seconds: 9.32\n",
      "Epoch  39/100 Batch   40/68 - Loss:  0.593, Seconds: 15.98\n",
      "Epoch  39/100 Batch   60/68 - Loss:  1.119, Seconds: 24.80\n",
      "Average loss for this epoch: 0.743\n",
      "New Record!\n",
      "Epoch  40/100 Batch   20/68 - Loss:  0.185, Seconds: 9.54\n",
      "Epoch  40/100 Batch   40/68 - Loss:  0.587, Seconds: 15.84\n",
      "Epoch  40/100 Batch   60/68 - Loss:  1.114, Seconds: 23.35\n",
      "Average loss for this epoch: 0.739\n",
      "New Record!\n",
      "Epoch  41/100 Batch   20/68 - Loss:  0.187, Seconds: 9.36\n",
      "Epoch  41/100 Batch   40/68 - Loss:  0.560, Seconds: 15.46\n",
      "Epoch  41/100 Batch   60/68 - Loss:  1.099, Seconds: 23.08\n",
      "Average loss for this epoch: 0.721\n",
      "New Record!\n",
      "Epoch  42/100 Batch   20/68 - Loss:  0.180, Seconds: 9.37\n",
      "Epoch  42/100 Batch   40/68 - Loss:  0.566, Seconds: 16.00\n",
      "Epoch  42/100 Batch   60/68 - Loss:  1.072, Seconds: 22.39\n",
      "Average loss for this epoch: 0.707\n",
      "New Record!\n",
      "Epoch  43/100 Batch   20/68 - Loss:  0.184, Seconds: 9.45\n",
      "Epoch  43/100 Batch   40/68 - Loss:  0.558, Seconds: 16.10\n",
      "Epoch  43/100 Batch   60/68 - Loss:  1.049, Seconds: 23.73\n",
      "Average loss for this epoch: 0.698\n",
      "New Record!\n",
      "Epoch  44/100 Batch   20/68 - Loss:  0.200, Seconds: 9.04\n",
      "Epoch  44/100 Batch   40/68 - Loss:  0.554, Seconds: 15.78\n",
      "Epoch  44/100 Batch   60/68 - Loss:  1.056, Seconds: 23.44\n",
      "Average loss for this epoch: 0.704\n",
      "No Improvement.\n",
      "Epoch  45/100 Batch   20/68 - Loss:  0.178, Seconds: 10.94\n",
      "Epoch  45/100 Batch   40/68 - Loss:  0.549, Seconds: 14.47\n",
      "Epoch  45/100 Batch   60/68 - Loss:  1.049, Seconds: 23.95\n",
      "Average loss for this epoch: 0.688\n",
      "New Record!\n",
      "Epoch  46/100 Batch   20/68 - Loss:  0.184, Seconds: 8.95\n",
      "Epoch  46/100 Batch   40/68 - Loss:  0.556, Seconds: 16.24\n",
      "Epoch  46/100 Batch   60/68 - Loss:  1.039, Seconds: 26.69\n",
      "Average loss for this epoch: 0.692\n",
      "No Improvement.\n",
      "Epoch  47/100 Batch   20/68 - Loss:  0.182, Seconds: 9.35\n",
      "Epoch  47/100 Batch   40/68 - Loss:  0.515, Seconds: 15.45\n",
      "Epoch  47/100 Batch   60/68 - Loss:  1.047, Seconds: 22.52\n",
      "Average loss for this epoch: 0.682\n",
      "New Record!\n",
      "Epoch  48/100 Batch   20/68 - Loss:  0.196, Seconds: 9.06\n",
      "Epoch  48/100 Batch   40/68 - Loss:  0.551, Seconds: 15.90\n",
      "Epoch  48/100 Batch   60/68 - Loss:  1.037, Seconds: 22.53\n",
      "Average loss for this epoch: 0.692\n",
      "No Improvement.\n",
      "Epoch  49/100 Batch   20/68 - Loss:  0.187, Seconds: 11.35\n",
      "Epoch  49/100 Batch   40/68 - Loss:  0.539, Seconds: 16.77\n",
      "Epoch  49/100 Batch   60/68 - Loss:  0.995, Seconds: 23.76\n",
      "Average loss for this epoch: 0.671\n",
      "New Record!\n",
      "Epoch  50/100 Batch   20/68 - Loss:  0.189, Seconds: 9.20\n",
      "Epoch  50/100 Batch   40/68 - Loss:  0.527, Seconds: 13.85\n",
      "Epoch  50/100 Batch   60/68 - Loss:  1.007, Seconds: 22.89\n",
      "Average loss for this epoch: 0.668\n",
      "New Record!\n",
      "Epoch  51/100 Batch   20/68 - Loss:  0.205, Seconds: 9.06\n",
      "Epoch  51/100 Batch   40/68 - Loss:  0.516, Seconds: 16.52\n",
      "Epoch  51/100 Batch   60/68 - Loss:  0.999, Seconds: 23.42\n",
      "Average loss for this epoch: 0.662\n",
      "New Record!\n",
      "Epoch  52/100 Batch   20/68 - Loss:  0.192, Seconds: 9.47\n",
      "Epoch  52/100 Batch   40/68 - Loss:  0.519, Seconds: 15.88\n",
      "Epoch  52/100 Batch   60/68 - Loss:  0.996, Seconds: 20.95\n",
      "Average loss for this epoch: 0.661\n",
      "New Record!\n",
      "Epoch  53/100 Batch   20/68 - Loss:  0.175, Seconds: 9.04\n",
      "Epoch  53/100 Batch   40/68 - Loss:  0.518, Seconds: 15.90\n",
      "Epoch  53/100 Batch   60/68 - Loss:  0.992, Seconds: 23.39\n",
      "Average loss for this epoch: 0.656\n",
      "New Record!\n",
      "Epoch  54/100 Batch   20/68 - Loss:  0.189, Seconds: 9.27\n",
      "Epoch  54/100 Batch   40/68 - Loss:  0.520, Seconds: 15.84\n",
      "Epoch  54/100 Batch   60/68 - Loss:  0.970, Seconds: 25.06\n",
      "Average loss for this epoch: 0.652\n",
      "New Record!\n",
      "Epoch  55/100 Batch   20/68 - Loss:  0.186, Seconds: 9.22\n",
      "Epoch  55/100 Batch   40/68 - Loss:  0.520, Seconds: 16.06\n",
      "Epoch  55/100 Batch   60/68 - Loss:  0.954, Seconds: 23.12\n",
      "Average loss for this epoch: 0.645\n",
      "New Record!\n",
      "Epoch  56/100 Batch   20/68 - Loss:  0.185, Seconds: 9.19\n",
      "Epoch  56/100 Batch   40/68 - Loss:  0.517, Seconds: 15.96\n",
      "Epoch  56/100 Batch   60/68 - Loss:  0.976, Seconds: 22.39\n",
      "Average loss for this epoch: 0.653\n",
      "No Improvement.\n",
      "Epoch  57/100 Batch   20/68 - Loss:  0.181, Seconds: 10.77\n",
      "Epoch  57/100 Batch   40/68 - Loss:  0.497, Seconds: 15.24\n",
      "Epoch  57/100 Batch   60/68 - Loss:  0.966, Seconds: 21.19\n",
      "Average loss for this epoch: 0.64\n",
      "New Record!\n",
      "Epoch  58/100 Batch   20/68 - Loss:  0.181, Seconds: 9.47\n",
      "Epoch  58/100 Batch   40/68 - Loss:  0.496, Seconds: 16.08\n",
      "Epoch  58/100 Batch   60/68 - Loss:  0.953, Seconds: 22.90\n",
      "Average loss for this epoch: 0.635\n",
      "New Record!\n",
      "Epoch  59/100 Batch   20/68 - Loss:  0.166, Seconds: 9.30\n",
      "Epoch  59/100 Batch   40/68 - Loss:  0.480, Seconds: 16.08\n",
      "Epoch  59/100 Batch   60/68 - Loss:  0.948, Seconds: 22.52\n",
      "Average loss for this epoch: 0.621\n",
      "New Record!\n",
      "Epoch  60/100 Batch   20/68 - Loss:  0.164, Seconds: 8.93\n",
      "Epoch  60/100 Batch   40/68 - Loss:  0.506, Seconds: 13.90\n",
      "Epoch  60/100 Batch   60/68 - Loss:  0.956, Seconds: 22.58\n",
      "Average loss for this epoch: 0.631\n",
      "No Improvement.\n",
      "Epoch  61/100 Batch   20/68 - Loss:  0.174, Seconds: 10.97\n",
      "Epoch  61/100 Batch   40/68 - Loss:  0.487, Seconds: 15.06\n",
      "Epoch  61/100 Batch   60/68 - Loss:  0.929, Seconds: 20.44\n",
      "Average loss for this epoch: 0.615\n",
      "New Record!\n",
      "Epoch  62/100 Batch   20/68 - Loss:  0.166, Seconds: 9.23\n",
      "Epoch  62/100 Batch   40/68 - Loss:  0.495, Seconds: 16.00\n",
      "Epoch  62/100 Batch   60/68 - Loss:  0.941, Seconds: 22.51\n",
      "Average loss for this epoch: 0.619\n",
      "No Improvement.\n",
      "Epoch  63/100 Batch   20/68 - Loss:  0.170, Seconds: 10.77\n",
      "Epoch  63/100 Batch   40/68 - Loss:  0.464, Seconds: 14.00\n",
      "Epoch  63/100 Batch   60/68 - Loss:  0.922, Seconds: 20.04\n",
      "Average loss for this epoch: 0.611\n",
      "New Record!\n",
      "Epoch  64/100 Batch   20/68 - Loss:  0.178, Seconds: 9.25\n",
      "Epoch  64/100 Batch   40/68 - Loss:  0.485, Seconds: 15.91\n",
      "Epoch  64/100 Batch   60/68 - Loss:  0.921, Seconds: 22.48\n",
      "Average loss for this epoch: 0.616\n",
      "No Improvement.\n",
      "Epoch  65/100 Batch   20/68 - Loss:  0.158, Seconds: 10.61\n",
      "Epoch  65/100 Batch   40/68 - Loss:  0.495, Seconds: 16.63\n",
      "Epoch  65/100 Batch   60/68 - Loss:  0.917, Seconds: 23.12\n",
      "Average loss for this epoch: 0.606\n",
      "New Record!\n",
      "Epoch  66/100 Batch   20/68 - Loss:  0.170, Seconds: 9.15\n",
      "Epoch  66/100 Batch   40/68 - Loss:  0.479, Seconds: 15.94\n",
      "Epoch  66/100 Batch   60/68 - Loss:  0.884, Seconds: 23.19\n",
      "Average loss for this epoch: 0.601\n",
      "New Record!\n",
      "Epoch  67/100 Batch   20/68 - Loss:  0.191, Seconds: 9.21\n",
      "Epoch  67/100 Batch   40/68 - Loss:  0.498, Seconds: 15.91\n",
      "Epoch  67/100 Batch   60/68 - Loss:  0.911, Seconds: 22.50\n",
      "Average loss for this epoch: 0.62\n",
      "No Improvement.\n",
      "Epoch  68/100 Batch   20/68 - Loss:  0.182, Seconds: 9.61\n",
      "Epoch  68/100 Batch   40/68 - Loss:  0.471, Seconds: 16.17\n",
      "Epoch  68/100 Batch   60/68 - Loss:  0.916, Seconds: 21.35\n",
      "Average loss for this epoch: 0.611\n",
      "No Improvement.\n",
      "Epoch  69/100 Batch   20/68 - Loss:  0.187, Seconds: 9.69\n",
      "Epoch  69/100 Batch   40/68 - Loss:  0.496, Seconds: 15.25\n",
      "Epoch  69/100 Batch   60/68 - Loss:  0.931, Seconds: 20.17\n",
      "Average loss for this epoch: 0.625\n",
      "No Improvement.\n",
      "Stopping Training.\n"
     ]
    }
   ],
   "source": [
    "# Model training\n",
    "learning_rate_decay = 0.9\n",
    "min_learning_rate = 0.0005\n",
    "# batch count\n",
    "display_step = 20 \n",
    "stop_early = 0 \n",
    "# number of consecutive epochs to consider for stopping criteria\n",
    "stop = 3 \n",
    "epoch_check = ((len(sorted_labels))//batch_size)-1 # Modulus for checking epoch loss\n",
    "epoch_loss = 0 \n",
    "batch_loss = 0\n",
    "# recording epoch loss\n",
    "summary_epoch_loss = [] \n",
    "\n",
    "checkpoint = \"./best_model.ckpt\" \n",
    "\n",
    "with tf.Session(graph=train_graph) as sess:\n",
    "    sess.run(tf.global_variables_initializer())\n",
    "\n",
    "    for epoch_i in range(1, epochs+1):\n",
    "        epoch_loss = 0\n",
    "        batch_loss = 0\n",
    "        \n",
    "        for batch_i, (labels_batch, tweets_batch) in enumerate(\n",
    "                get_batches(sorted_labels, sorted_tweets, batch_size)):\n",
    "            start_time = time.time()\n",
    "            _, loss = sess.run(\n",
    "                [train_op, cost],\n",
    "                {input_data: labels_batch,\n",
    "                 targets: tweets_batch,\n",
    "                 lr: learning_rate,\n",
    "                 sequence_length: tweets_batch.shape[1],\n",
    "                 keep_prob: keep_probability})\n",
    "\n",
    "            batch_loss += loss\n",
    "            epoch_loss += loss\n",
    "            end_time = time.time()\n",
    "            batch_time = end_time - start_time\n",
    "\n",
    "            if batch_i % display_step == 0 and batch_i > 0:\n",
    "                print('Epoch {:>3}/{} Batch {:>4}/{} - Loss: {:>6.3f}, Seconds: {:>4.2f}'\n",
    "                      .format(epoch_i,\n",
    "                              epochs, \n",
    "                              batch_i, \n",
    "                              len(sorted_labels) // batch_size, \n",
    "                              batch_loss / display_step, \n",
    "                              batch_time*display_step))\n",
    "                batch_loss = 0\n",
    "\n",
    "            if batch_i % epoch_check == 0 and batch_i > 0:\n",
    "                print(\"Average loss for this epoch:\", round(epoch_loss/epoch_check,3))\n",
    "                summary_epoch_loss.append(epoch_loss)\n",
    "                \n",
    "                # If the current epoch loss is at a new minimum, save the model and show it as new record\n",
    "                if epoch_loss <= min(summary_epoch_loss):\n",
    "                    print('New Record!') \n",
    "                    stop_early = 0\n",
    "                    saver = tf.train.Saver() \n",
    "                    saver.save(sess, checkpoint)\n",
    "\n",
    "                else:\n",
    "                    print(\"No Improvement.\")\n",
    "                    stop_early += 1\n",
    "                    if stop_early == stop:\n",
    "                        break\n",
    "                    \n",
    "        # adjust learning rate, making sure it is not below its minimum value\n",
    "        learning_rate *= learning_rate_decay\n",
    "        if learning_rate < min_learning_rate:\n",
    "            learning_rate = min_learning_rate\n",
    "        \n",
    "        if stop_early == stop:\n",
    "            print(\"Stopping Training.\")\n",
    "            break"
   ]
  },
  {
   "cell_type": "markdown",
   "metadata": {
    "collapsed": true
   },
   "source": [
    "### 10. New Tweets Generation (Content Generation): "
   ]
  },
  {
   "cell_type": "code",
   "execution_count": 70,
   "metadata": {
    "collapsed": true
   },
   "outputs": [],
   "source": [
    "#just like training daa\n",
    "def vectorize_tweet(tweet):\n",
    "    '''Just like for the training data, this creates the average embedding for the inputted tweet'''\n",
    "    vect_tweet = []\n",
    "    vectors = np.zeros(embedding_dim)\n",
    "    for word in tweet.split():\n",
    "        vector = embeddings_index.get(word)\n",
    "        if vector is not None:\n",
    "            vectors += vector\n",
    "    return vectors/len(tweet.split())"
   ]
  },
  {
   "cell_type": "code",
   "execution_count": 74,
   "metadata": {},
   "outputs": [
    {
     "name": "stdout",
     "output_type": "stream",
     "text": [
      "3464\n"
     ]
    }
   ],
   "source": [
    "# give text to match closest tweet from data set\n",
    "create_tweet = \"I need your help to make america great again! #maga\"\n",
    "\n",
    "create_tweet = tweet_preprocessing(create_tweet)\n",
    "\n",
    "create_tweet_vect = vectorize_tweet(create_tweet)\n",
    "\n",
    "create_tweet_pca = pca.transform(create_tweet_vect)\n",
    "\n",
    "# matching the tweet to find similar pca label\n",
    "similar_tweet = min(pca_tweets_list, key=lambda x:abs(x-create_tweet_pca))\n",
    "\n",
    "for tweet in enumerate(pca_tweets_list):\n",
    "    if tweet[1] == similar_tweet:\n",
    "        # show label of tweet closest to provided tweet .\n",
    "        print(pca_labels[tweet[0]])\n",
    "        break"
   ]
  },
  {
   "cell_type": "code",
   "execution_count": 75,
   "metadata": {},
   "outputs": [
    {
     "name": "stdout",
     "output_type": "stream",
     "text": [
      "hillary is the most corrupt person to ever run for the presidency of the united states # draintheswamp\n",
      "\n",
      "Tweet type in training data: False\n"
     ]
    }
   ],
   "source": [
    "# using the value generated in the previous step\n",
    "tweet_type = 3464\n",
    "\n",
    "closest_type = min(short_labels, key=lambda x:abs(x-tweet_type))\n",
    "words = []\n",
    "for tweet in enumerate(short_labels):\n",
    "    if tweet[1] == closest_type:\n",
    "        for num in short_tweets[tweet[0]]:\n",
    "            words.append(int_to_vocab[num])\n",
    "print(\" \".join(words))\n",
    "print()\n",
    "print(\"Does tweet type exist in training data:\", tweet_type in short_labels)"
   ]
  },
  {
   "cell_type": "code",
   "execution_count": 76,
   "metadata": {},
   "outputs": [
    {
     "name": "stdout",
     "output_type": "stream",
     "text": [
      "0 , 14736\n"
     ]
    }
   ],
   "source": [
    "# providing the range of tweet types, provide a choice of any random integer in this range for best results\n",
    "print(min(short_labels), \",\", max(short_labels))"
   ]
  },
  {
   "cell_type": "code",
   "execution_count": 86,
   "metadata": {},
   "outputs": [
    {
     "name": "stdout",
     "output_type": "stream",
     "text": [
      "  Word Ids:[813, 905, 309, 367, 102, 739, 851, 312, 117, 856, 1228]\n",
      "  Tweet: i will be interviewed by @ oreillyfactor tonight at 8 pm\n"
     ]
    }
   ],
   "source": [
    "# give your choice for the tweet type\n",
    "tweet_type = 13799\n",
    "\n",
    "checkpoint = \"./\" + checkpoint\n",
    "\n",
    "loaded_graph = tf.Graph()\n",
    "with tf.Session(graph=loaded_graph) as sess:\n",
    "    # Load saved model\n",
    "    loader = tf.train.import_meta_graph(checkpoint + '.meta')\n",
    "    loader.restore(sess, checkpoint)\n",
    "\n",
    "    input_data = loaded_graph.get_tensor_by_name('input:0')\n",
    "    logits = loaded_graph.get_tensor_by_name('logits:0')\n",
    "    sequence_length = loaded_graph.get_tensor_by_name('sequence_length:0')\n",
    "    keep_prob = loaded_graph.get_tensor_by_name('keep_prob:0')\n",
    "\n",
    "    tweet_logits = sess.run(logits, {input_data: [[tweet_type]], \n",
    "                                     sequence_length: np.random.randint(3,15),\n",
    "                                     keep_prob: 1.0})[0] \n",
    "\n",
    "# Remove the padding from the tweet\n",
    "pad = vocab_to_int[\"<PAD>\"]\n",
    "\n",
    "print('  Word Ids:      {}'.format([i for i in np.argmax(tweet_logits, 1) if i != pad]))\n",
    "print('  Tweet: {}'.format(\" \".join([int_to_vocab[i] for i in np.argmax(tweet_logits, 1) if i != pad])))"
   ]
  },
  {
   "cell_type": "markdown",
   "metadata": {
    "collapsed": true
   },
   "source": [
    "### Few more generated tweets:"
   ]
  },
  {
   "cell_type": "markdown",
   "metadata": {},
   "source": [
    "1. thank you arizona ! # makeamericagreatagain # trump2016\n",
    "\n",
    "\n",
    "2. hillary must be stopped # crookedhillary\n",
    "\n",
    "\n",
    "3. remember to come out and vote ! # maga # trump2016\n",
    "\n",
    "\n",
    "4. makeamericagreatagain # 6days\n",
    "\n",
    "\n",
    "5. rt @ donaldjtrumpjr : final push ! eric and i doing dozens of radio interviews we can win this thing ! get out and vote ! # maga # electionday\n",
    "\n",
    "\n",
    "6. watching the returns at 9 : 45 pm # electionnight # maga\n",
    "\n",
    "\n",
    "7.  busy day planned in new york will soon be making some very important decisions on the people who will be running our government !"
   ]
  }
 ],
 "metadata": {
  "kernelspec": {
   "display_name": "Python 3",
   "language": "python",
   "name": "python3"
  },
  "language_info": {
   "codemirror_mode": {
    "name": "ipython",
    "version": 3
   },
   "file_extension": ".py",
   "mimetype": "text/x-python",
   "name": "python",
   "nbconvert_exporter": "python",
   "pygments_lexer": "ipython3",
   "version": "3.6.5"
  }
 },
 "nbformat": 4,
 "nbformat_minor": 1
}
